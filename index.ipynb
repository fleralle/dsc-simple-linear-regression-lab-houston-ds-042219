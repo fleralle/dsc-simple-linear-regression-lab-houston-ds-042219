{
 "cells": [
  {
   "cell_type": "markdown",
   "metadata": {},
   "source": [
    "# Simple Linear Regression - Lab\n",
    "\n",
    "## Introduction\n",
    "\n",
    "Regression analysis forms the basis of machine learning experiments. Understanding regression will help you to get the foundations of most machine learning algorithms. Ever wondered what's at the heart of an artificial neural network processing unstructured data like music and graphics? It can be linear regression!\n",
    "\n",
    "## Objectives\n",
    "\n",
    "You will be able to:\n",
    "\n",
    "* Calculate the slope of a line using standard slope formula \n",
    "* Calculate the y-intercept using the slope value\n",
    "* Draw a regression line based on calculated slope and intercept\n",
    "* Predict the label of a previously unseen data element\n",
    "\n",
    "\n",
    "\n",
    "## Let's get started\n",
    "\n",
    "A first step towards understanding regression is getting a clear idea about \"linear\" regression and basic linear algebra. \n",
    "\n",
    "In the lesson, we showed the best-fit line's slope $\\hat m$ can be calculated as:\n",
    "\n",
    "$$\\hat m = \\rho \\frac{S_Y}{S_X}$$\n",
    "\n",
    "With $\\rho$ being the correlation coefficient and  ${S_Y}$ and ${S_X}$ The standard deviation of $x$ and $y$ respectively. It can be shown that this is also equal to:\n",
    "\n",
    "$$\\hat m = \\dfrac{\\overline{x}*\\overline{y}-\\overline{xy}}{(\\overline{x})^2-\\overline{x^2}}$$\n",
    "\n",
    "You'll use the latter formula in this lab. As in our previous lab, let's break down the formula into its parts. First, you'll import the required libraries and define some data points to work with. Next, you'll use some pre-created toy data in numpy arrays. Let's do this for you to give you a head start. "
   ]
  },
  {
   "cell_type": "code",
   "execution_count": 1,
   "metadata": {},
   "outputs": [],
   "source": [
    "# import necessary libraries\n",
    "\n",
    "import numpy as np\n",
    "import matplotlib.pyplot as plt\n",
    "from matplotlib import style\n",
    "style.use('ggplot')\n",
    "\n",
    "# Initialize vectors X and Y with given values and create a scatter plot\n",
    "X = np.array([1,2,3,4,5,6,8,8,9,10], dtype=np.float64)\n",
    "Y = np.array([7,7,8,9,9,10,10,11,11,12], dtype=np.float64)"
   ]
  },
  {
   "cell_type": "markdown",
   "metadata": {},
   "source": [
    "## Create a scatter plot between X and Y and comment on the output"
   ]
  },
  {
   "cell_type": "code",
   "execution_count": 3,
   "metadata": {},
   "outputs": [
    {
     "data": {
      "image/png": "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\n",
      "text/plain": [
       "<Figure size 432x288 with 1 Axes>"
      ]
     },
     "metadata": {
      "needs_background": "light"
     },
     "output_type": "display_data"
    }
   ],
   "source": [
    "plt.scatter(x=X, y=Y);"
   ]
  },
  {
   "cell_type": "code",
   "execution_count": 3,
   "metadata": {},
   "outputs": [
    {
     "data": {
      "image/png": "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\n",
      "text/plain": [
       "<matplotlib.figure.Figure at 0x1105d5550>"
      ]
     },
     "metadata": {},
     "output_type": "display_data"
    }
   ],
   "source": [
    "# Scatter plot\n"
   ]
  },
  {
   "cell_type": "markdown",
   "metadata": {
    "collapsed": true
   },
   "source": [
    "# Your observations about relationship in X and Y \n",
    "X and Y look related and tend to follow a line"
   ]
  },
  {
   "cell_type": "markdown",
   "metadata": {},
   "source": [
    "In a data analysis context, we can think of these points as two vectors:\n",
    "\n",
    "* **vector X**: The independent variable or predictor\n",
    "* **vector Y**: The dependent variable or target variable\n",
    "\n",
    "## Write a function `calc_slope()`\n",
    "\n",
    "Write a function `calc_slope()` that takes in x and y vectors and calculates the slope using the formula shown above. "
   ]
  },
  {
   "cell_type": "code",
   "execution_count": 13,
   "metadata": {},
   "outputs": [
    {
     "data": {
      "text/plain": [
       "0.5393518518518512"
      ]
     },
     "execution_count": 13,
     "metadata": {},
     "output_type": "execute_result"
    }
   ],
   "source": [
    "# Write the function to calculate slope as: \n",
    "# (mean(x) * mean(y) – mean(x*y)) / ( mean (x)^2 – mean( x^2))\n",
    "def calc_slope(xs,ys):\n",
    "    return (xs.mean() * ys.mean() - (xs*ys).mean()) / (xs.mean()**2 - (xs*xs).mean())\n",
    "\n",
    "calc_slope(X,Y)\n",
    "\n",
    "# 0.5393518518518512"
   ]
  },
  {
   "cell_type": "markdown",
   "metadata": {},
   "source": [
    "Great, so we have our slope. Next we calculate the intercept. \n",
    "\n",
    "As a reminder, the calculation for the best-fit line's y-intercept is:\n",
    "\n",
    "$$\\hat c = \\overline y - \\hat m \\overline x $$\n",
    "\n",
    "\n",
    "## Write a function best_fit()\n",
    "\n",
    "Write a function `best_fit()` that takes in X and Y, calculates the slope and intercept using the formula. The function should return slope and intercept values. "
   ]
  },
  {
   "cell_type": "code",
   "execution_count": 15,
   "metadata": {},
   "outputs": [
    {
     "data": {
      "text/plain": [
       "(0.5393518518518512, 6.379629629629633)"
      ]
     },
     "execution_count": 15,
     "metadata": {},
     "output_type": "execute_result"
    }
   ],
   "source": [
    "# use the slope function with intercept formula to return calculate slope and intercept from data points\n",
    "def calc_intercept(xs,ys):\n",
    "    return ys.mean() - calc_slope(xs,ys)*xs.mean() \n",
    "\n",
    "def best_fit(xs,ys):\n",
    "    return (calc_slope(xs,ys), calc_intercept(xs,ys))\n",
    "\n",
    "# Uncomment below to test your function\n",
    "\n",
    "m, c = best_fit(X,Y)\n",
    "m, c\n",
    "\n",
    "# (0.5393518518518512, 6.379629629629633)"
   ]
  },
  {
   "cell_type": "markdown",
   "metadata": {},
   "source": [
    "We now have a working model with `m` and `c` as model parameters. We can create a line for the data points using the calculated slope and intercept:\n",
    "\n",
    "* Recall that $y = mx + c$. We can now use slope and intercept values along with X data points (features) to calculate the Y data points (labels) of the regression line. \n",
    "\n",
    "## Write a function reg_line()\n",
    "\n",
    "Write a function `reg_line()` that takes in slope, intercept and X vector and calculates the regression line using $y= mx + c$ for each point in X"
   ]
  },
  {
   "cell_type": "code",
   "execution_count": 17,
   "metadata": {},
   "outputs": [
    {
     "data": {
      "text/plain": [
       "array([ 6.91898148,  7.45833333,  7.99768519,  8.53703704,  9.07638889,\n",
       "        9.61574074, 10.69444444, 10.69444444, 11.2337963 , 11.77314815])"
      ]
     },
     "execution_count": 17,
     "metadata": {},
     "output_type": "execute_result"
    }
   ],
   "source": [
    "def reg_line (m, c, xs):\n",
    "    return m*xs + c\n",
    "\n",
    "# Uncomment below\n",
    "regression_line = reg_line(m,c,X)\n",
    "regression_line"
   ]
  },
  {
   "cell_type": "markdown",
   "metadata": {},
   "source": [
    "## Plot the (x,y) data points and draw the calculated regression line for visual inspection"
   ]
  },
  {
   "cell_type": "code",
   "execution_count": 23,
   "metadata": {},
   "outputs": [
    {
     "data": {
      "image/png": "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\n",
      "text/plain": [
       "<Figure size 432x288 with 1 Axes>"
      ]
     },
     "metadata": {
      "needs_background": "light"
     },
     "output_type": "display_data"
    }
   ],
   "source": [
    "# Plot data and regression line\n",
    "plt.scatter(x=X, y=Y, c='b', label='Data points')\n",
    "plt.plot(X, regression_line, label='Regression line')\n",
    "plt.legend();"
   ]
  },
  {
   "cell_type": "markdown",
   "metadata": {},
   "source": [
    "So there we have it, our least squares regression line. This is the best fit line and does describe the data pretty well (still not perfect though). \n",
    "\n",
    "## Describe your Model Mathematically and in Words"
   ]
  },
  {
   "cell_type": "markdown",
   "metadata": {
    "collapsed": true
   },
   "source": [
    "\n",
    "We have modeled our data set in order to fit a linear function. In order to do so, we have use a calculation of the slope and intercept based on the x STD, y STD, Pearson correlation, x MEAN and y MEAN \n",
    "\n",
    "\n"
   ]
  },
  {
   "cell_type": "markdown",
   "metadata": {},
   "source": [
    "## Predicting label for new data\n",
    "\n",
    "So, how might you go about actually making a prediction based on this model you just made?\n",
    "\n",
    "Now that we have a working model with m and b as model parameters. We can fill in a value of x with these parameters to identify a corresponding value of $\\hat y$ according to our model. Recall the formula:\n",
    "\n",
    "$$\\hat y = \\hat mx + \\hat c$$\n",
    "\n",
    "Let's try to find a y prediction for a new value of $x = 7$ and unknown $y$, and plot the new prediction with existing data "
   ]
  },
  {
   "cell_type": "code",
   "execution_count": 24,
   "metadata": {},
   "outputs": [
    {
     "data": {
      "text/plain": [
       "10.155092592592592"
      ]
     },
     "execution_count": 24,
     "metadata": {},
     "output_type": "execute_result"
    }
   ],
   "source": [
    "x_new = 7\n",
    "y_predicted = reg_line(m, c, x_new)\n",
    "y_predicted\n",
    "\n",
    "# 10.155092592592592"
   ]
  },
  {
   "cell_type": "markdown",
   "metadata": {},
   "source": [
    "## Plot the prediction with actual data and regression line "
   ]
  },
  {
   "cell_type": "code",
   "execution_count": 26,
   "metadata": {},
   "outputs": [
    {
     "data": {
      "image/png": "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\n",
      "text/plain": [
       "<Figure size 432x288 with 1 Axes>"
      ]
     },
     "metadata": {
      "needs_background": "light"
     },
     "output_type": "display_data"
    }
   ],
   "source": [
    "plt.scatter(x=X, y=Y, c='b', label='Data points')\n",
    "plt.plot(X, regression_line, label='Regression line')\n",
    "plt.scatter([x_new], [y_predicted], c='y', label='Prediction at x=7')\n",
    "plt.legend();"
   ]
  },
  {
   "cell_type": "code",
   "execution_count": 19,
   "metadata": {},
   "outputs": [
    {
     "data": {
      "image/png": "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\n",
      "text/plain": [
       "<matplotlib.figure.Figure at 0x11e005780>"
      ]
     },
     "metadata": {},
     "output_type": "display_data"
    }
   ],
   "source": [
    "# Plot as above and show the predicted value\n"
   ]
  },
  {
   "cell_type": "markdown",
   "metadata": {},
   "source": [
    "You now know how to create your own models, which is great, but you still haven't answered one very important question: how accurate is our model? This will be discussed next.\n",
    "\n",
    "## Summary\n",
    "\n",
    "In this lesson, you learned how to draw a best fit line for given data labels and features, by first calculating the slope and intercept. The calculated regression line was then used to predict the label ($\\hat y$-value) of a previously unseen feature ($x$-value). The lesson uses a simple set of data points for demonstration."
   ]
  }
 ],
 "metadata": {
  "kernelspec": {
   "display_name": "Python 3",
   "language": "python",
   "name": "python3"
  },
  "language_info": {
   "codemirror_mode": {
    "name": "ipython",
    "version": 3
   },
   "file_extension": ".py",
   "mimetype": "text/x-python",
   "name": "python",
   "nbconvert_exporter": "python",
   "pygments_lexer": "ipython3",
<<<<<<< HEAD
   "version": "3.7.3"
=======
   "version": "3.6.6"
>>>>>>> 0bc900314834a885f0e82988375f839440043692
  }
 },
 "nbformat": 4,
 "nbformat_minor": 2
}
